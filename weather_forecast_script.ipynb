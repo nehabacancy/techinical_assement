{
 "cells": [
  {
   "cell_type": "code",
   "execution_count": 1,
   "metadata": {},
   "outputs": [
    {
     "name": "stdout",
     "output_type": "stream",
     "text": [
      "            timestamp      city country  temperature  humidity  wind_speed  \\\n",
      "0 2024-03-18 16:49:59    London      GB        13.11        83        3.60   \n",
      "1 2024-03-18 16:50:07     Paris      FR        15.21        68        3.09   \n",
      "2 2024-03-18 16:52:33  New York      US         5.87        50        5.14   \n",
      "3 2024-03-18 16:49:24     Tokyo      JP         6.80        26       11.32   \n",
      "\n",
      "  weather_description  \n",
      "0     overcast clouds  \n",
      "1     overcast clouds  \n",
      "2       broken clouds  \n",
      "3           clear sky  \n"
     ]
    }
   ],
   "source": [
    "import requests\n",
    "import pandas as pd\n",
    "import datetime\n",
    "\n",
    "api_key = \"2ba3adde85df148b0ed86632635963e6\" \n",
    "url = f\"https://api.openweathermap.org/data/2.5/weather?\"\n",
    "\n",
    "def get_weather_data(city, country):\n",
    "    params = {\n",
    "        \"q\": f\"{city},{country}\",\n",
    "        \"appid\": api_key,\n",
    "        \"units\": \"metric\"\n",
    "    }\n",
    "    response = requests.get(url, params=params)\n",
    "    response.raise_for_status() \n",
    "    return response.json()\n",
    "\n",
    "def transform_weather_data(data):\n",
    "    # Extract relevant data\n",
    "    transformed_data = []\n",
    "    weather_dict = {\n",
    "        \"timestamp\": datetime.datetime.fromtimestamp(data[\"dt\"]),\n",
    "        \"city\": data[\"name\"],\n",
    "        \"country\": data[\"sys\"][\"country\"],\n",
    "        \"temperature\": data[\"main\"][\"temp\"],\n",
    "        \"humidity\": data[\"main\"][\"humidity\"],\n",
    "        \"wind_speed\": data[\"wind\"][\"speed\"],\n",
    "        \"weather_description\": data[\"weather\"][0][\"description\"]\n",
    "    }\n",
    "    transformed_data.append(weather_dict)\n",
    "    dataframe = pd.DataFrame(transformed_data)\n",
    "    return dataframe\n",
    "\n",
    "# List of city-country pairs\n",
    "city_country_pairs = [\n",
    "    (\"London\", \"UK\"),\n",
    "    (\"Paris\", \"FR\"),\n",
    "    (\"New York\", \"US\"),\n",
    "    (\"Tokyo\", \"JP\")\n",
    "]\n",
    "\n",
    "# Create an empty list to store dataframes\n",
    "all_dataframes = []\n",
    "\n",
    "# Iterate through the city-country pairs\n",
    "for city, country in city_country_pairs:\n",
    "    try:\n",
    "        data = get_weather_data(city, country)\n",
    "        dataframe = transform_weather_data(data)\n",
    "        all_dataframes.append(dataframe)\n",
    "    except requests.exceptions.RequestException as e:\n",
    "        print(f\"API request failed for {city}, {country}: {e}\")\n",
    "\n",
    "# Concatenate all dataframes into a single dataframe\n",
    "combined_dataframe = pd.concat(all_dataframes, ignore_index=True)\n",
    "\n",
    "# Print the combined dataframe\n",
    "print(combined_dataframe)"
   ]
  },
  {
   "cell_type": "code",
   "execution_count": 2,
   "metadata": {},
   "outputs": [
    {
     "name": "stdout",
     "output_type": "stream",
     "text": [
      "Requirement already satisfied: psycopg2 in c:\\users\\admin\\appdata\\local\\programs\\python\\python310\\lib\\site-packages (2.9.9)\n"
     ]
    },
    {
     "name": "stderr",
     "output_type": "stream",
     "text": [
      "\n",
      "[notice] A new release of pip is available: 23.0.1 -> 24.0\n",
      "[notice] To update, run: python.exe -m pip install --upgrade pip\n"
     ]
    }
   ],
   "source": [
    "! pip install psycopg2"
   ]
  },
  {
   "cell_type": "code",
   "execution_count": 7,
   "metadata": {},
   "outputs": [],
   "source": [
    "import psycopg2\n",
    "\n",
    "try:\n",
    "\n",
    "    conn = psycopg2.connect(\n",
    "    host=\"localhost\",\n",
    "    user=\"postgres\",\n",
    "    password=\"Neha@00281\",\n",
    "    port= '5432'\n",
    "    )\n",
    "\n",
    "    cursor = conn.cursor()\n",
    "\n",
    "    # #Drop the table\n",
    "    # dropTableStmt   = \"DROP TABLE %s;\"%\"weather_data2\";\n",
    "    # # Execute the drop table command\n",
    "    # cursor.execute(dropTableStmt);\n",
    "\n",
    "\n",
    "    table_creation = \"\"\"\n",
    "    CREATE TABLE IF NOT EXISTS weather_data (\n",
    "    id SERIAL PRIMARY KEY,\n",
    "    timestamp TIMESTAMP NOT NULL,\n",
    "    city VARCHAR(100) NOT NULL,\n",
    "    country VARCHAR(100) NOT NULL,\n",
    "    temperature FLOAT NOT NULL,\n",
    "    humidity INTEGER NOT NULL,\n",
    "    wind_speed FLOAT NOT NULL,\n",
    "    weather_description VARCHAR(200) NOT NULL\n",
    "    );\n",
    "    \"\"\"\n",
    "\n",
    "    cursor.execute(table_creation)\n",
    "    conn.commit()\n",
    "    \n",
    "    # Insert data from the DataFrame into the table\n",
    "    for _, row in combined_dataframe.iterrows():\n",
    "        query = \"\"\"\n",
    "            INSERT INTO weather_data (\n",
    "                timestamp, city, country, temperature, humidity, wind_speed, weather_description\n",
    "            ) VALUES (\n",
    "                %s, %s, %s, %s, %s, %s, %s\n",
    "            );\n",
    "        \"\"\"\n",
    "        values = (\n",
    "            row[\"timestamp\"],\n",
    "            row[\"city\"],\n",
    "            row[\"country\"],\n",
    "            row[\"temperature\"],\n",
    "            row[\"humidity\"],\n",
    "            row[\"wind_speed\"],\n",
    "            row[\"weather_description\"]\n",
    "        )\n",
    "        cursor.execute(query, values)\n",
    "        conn.commit()\n",
    "\n",
    "\n",
    "except Exception as error:\n",
    "    print(error)\n",
    "\n",
    "finally:\n",
    "    if cursor is None:\n",
    "        cursor.close()\n",
    "    if conn is not None:\n",
    "        conn.close()\n",
    "\n",
    "\n"
   ]
  },
  {
   "cell_type": "code",
   "execution_count": null,
   "metadata": {},
   "outputs": [],
   "source": []
  }
 ],
 "metadata": {
  "kernelspec": {
   "display_name": "Python 3",
   "language": "python",
   "name": "python3"
  },
  "language_info": {
   "codemirror_mode": {
    "name": "ipython",
    "version": 3
   },
   "file_extension": ".py",
   "mimetype": "text/x-python",
   "name": "python",
   "nbconvert_exporter": "python",
   "pygments_lexer": "ipython3",
   "version": "3.10.11"
  }
 },
 "nbformat": 4,
 "nbformat_minor": 2
}
